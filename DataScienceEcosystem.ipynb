{
  "cells": [
    {
      "cell_type": "markdown",
      "id": "f7db85f1-8d3a-4fa8-be3b-708c588b0db0",
      "metadata": {
        "id": "f7db85f1-8d3a-4fa8-be3b-708c588b0db0"
      },
      "source": [
        "# Data Science Tools and Ecosystem"
      ]
    },
    {
      "cell_type": "markdown",
      "id": "f1d45058-fa7b-424b-9d4c-322029868d99",
      "metadata": {
        "id": "f1d45058-fa7b-424b-9d4c-322029868d99"
      },
      "source": [
        "In this notebook, Data Science Tools and Ecosystem are summarized."
      ]
    },
    {
      "cell_type": "markdown",
      "source": [
        "**Objectives:**\n",
        "*   List Popular Languages for Data Science\n",
        "*   List Commonly Used Data Science Libraries\n",
        "*   List 3 Development Environment Open Source Data Science Tools\n",
        "*   Multiply and Add Numbers\n",
        "*   Convert Minutes to Hours\n",
        "*   Include the Author's Name\n",
        "\n",
        "\n",
        "\n",
        "\n",
        "\n",
        "\n",
        "\n"
      ],
      "metadata": {
        "id": "_-dPIhOuLJPA"
      },
      "id": "_-dPIhOuLJPA"
    },
    {
      "cell_type": "markdown",
      "id": "393276c2-98b7-42d0-b2b6-a8cc21c24960",
      "metadata": {
        "id": "393276c2-98b7-42d0-b2b6-a8cc21c24960"
      },
      "source": [
        "Some of the popular languages that Data Scientists use are:\n",
        "1.   Python\n",
        "2.   Julia\n",
        "3.   Scala\n",
        "4.   SQL\n",
        "5.   R\n",
        "\n",
        "\n",
        "\n",
        "\n",
        "\n"
      ]
    },
    {
      "cell_type": "markdown",
      "id": "6c05d4ab-ad18-466f-a066-afc027ab0161",
      "metadata": {
        "id": "6c05d4ab-ad18-466f-a066-afc027ab0161"
      },
      "source": [
        "Some of the commonly used libraries used by Data Scientists include:\n",
        "1.   NumPy\n",
        "2.   Pandas\n",
        "3.   SciPy\n",
        "4.   TensorFlow\n",
        "5.   PyTorch\n",
        "\n",
        "\n"
      ]
    },
    {
      "cell_type": "code",
      "execution_count": null,
      "id": "a04b9b4e-7bc0-40a3-a6a1-6f139acad9d0",
      "metadata": {
        "id": "a04b9b4e-7bc0-40a3-a6a1-6f139acad9d0",
        "outputId": "8e95b815-5bf6-4d86-fd13-893acbb714a9",
        "colab": {
          "base_uri": "https://localhost:8080/",
          "height": 143
        }
      },
      "outputs": [
        {
          "output_type": "display_data",
          "data": {
            "text/plain": [
              "<IPython.core.display.Markdown object>"
            ],
            "text/markdown": "| Data Science Tools ||\n| --- | --- |\n| Jupyter Notebooks ||\n| Zeppelin Notebooks ||\n| RStudio ||"
          },
          "metadata": {}
        }
      ],
      "source": [
        "# Define the table contents\n",
        "table = \"| Data Science Tools ||\\n| --- | --- |\\n| Jupyter Notebooks ||\\n| Zeppelin Notebooks ||\\n| RStudio ||\"\n",
        "\n",
        "# Create the Markdown cell\n",
        "display(Markdown(table))\n"
      ]
    },
    {
      "cell_type": "code",
      "execution_count": null,
      "id": "a67a4e87-4516-407a-968b-866c5cfc8f06",
      "metadata": {
        "id": "a67a4e87-4516-407a-968b-866c5cfc8f06",
        "outputId": "048a075f-8391-4733-b504-2df97d38d96d",
        "colab": {
          "base_uri": "https://localhost:8080/",
          "height": 58
        }
      },
      "outputs": [
        {
          "output_type": "display_data",
          "data": {
            "text/plain": [
              "<IPython.core.display.Markdown object>"
            ],
            "text/markdown": "### Below are a few examples of evaluating arithmetic expressions in Python\n"
          },
          "metadata": {}
        }
      ],
      "source": [
        "from IPython.display import Markdown, display\n",
        "\n",
        "# Define the Markdown string with the H3 heading\n",
        "md = \"### Below are a few examples of evaluating arithmetic expressions in Python\\n\"\n",
        "\n",
        "# Add the Markdown string to the existing Markdown cell\n",
        "display(Markdown(md))\n"
      ]
    },
    {
      "cell_type": "markdown",
      "id": "2ca5692a-9937-40e2-af97-6479dc037a9d",
      "metadata": {
        "id": "2ca5692a-9937-40e2-af97-6479dc037a9d"
      },
      "source": [
        "This a simple arithmetic expression to mutiply then add integers"
      ]
    },
    {
      "cell_type": "code",
      "execution_count": null,
      "id": "5bb9636a-7d66-4a04-ad08-11ab3990125a",
      "metadata": {
        "id": "5bb9636a-7d66-4a04-ad08-11ab3990125a",
        "outputId": "d6759022-4625-4816-fcf5-b3c6719b183e",
        "colab": {
          "base_uri": "https://localhost:8080/"
        }
      },
      "outputs": [
        {
          "output_type": "execute_result",
          "data": {
            "text/plain": [
              "17"
            ]
          },
          "metadata": {},
          "execution_count": 14
        }
      ],
      "source": [
        "(3*4)+5"
      ]
    },
    {
      "cell_type": "markdown",
      "id": "da22bff2-3ec9-47a8-b0f9-72eb352abad9",
      "metadata": {
        "id": "da22bff2-3ec9-47a8-b0f9-72eb352abad9"
      },
      "source": [
        "This will convert 200 minutes to hours by diving by 60"
      ]
    },
    {
      "cell_type": "code",
      "execution_count": null,
      "id": "ef8a8b96-7018-4e62-b628-ded203a38cfa",
      "metadata": {
        "id": "ef8a8b96-7018-4e62-b628-ded203a38cfa",
        "outputId": "1a2e20c7-77a5-4a84-a328-fd660c849485",
        "colab": {
          "base_uri": "https://localhost:8080/"
        }
      },
      "outputs": [
        {
          "output_type": "stream",
          "name": "stdout",
          "text": [
            "200 minutes is equal to 3.3333333333333335 hours\n"
          ]
        }
      ],
      "source": [
        "# Define the value in minutes\n",
        "minutes = 200\n",
        "\n",
        "# Convert minutes to hours\n",
        "hours = minutes / 60\n",
        "\n",
        "# Print the result\n",
        "print(f\"{minutes} minutes is equal to {hours} hours\")\n"
      ]
    },
    {
      "cell_type": "markdown",
      "id": "b5d4fe8e-57f6-4a08-b256-7d8bb19884b9",
      "metadata": {
        "id": "b5d4fe8e-57f6-4a08-b256-7d8bb19884b9"
      },
      "source": [
        "<h2>Author:</h2> Boris Raca"
      ]
    }
  ],
  "metadata": {
    "kernelspec": {
      "display_name": "Python 3 (ipykernel)",
      "language": "python",
      "name": "python3"
    },
    "language_info": {
      "codemirror_mode": {
        "name": "ipython",
        "version": 3
      },
      "file_extension": ".py",
      "mimetype": "text/x-python",
      "name": "python",
      "nbconvert_exporter": "python",
      "pygments_lexer": "ipython3",
      "version": "3.10.9"
    },
    "colab": {
      "provenance": []
    }
  },
  "nbformat": 4,
  "nbformat_minor": 5
}